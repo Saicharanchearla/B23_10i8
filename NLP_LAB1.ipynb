{
  "nbformat": 4,
  "nbformat_minor": 0,
  "metadata": {
    "colab": {
      "provenance": [],
      "authorship_tag": "ABX9TyOV6MrFqX0J7XT4fFEU7d65",
      "include_colab_link": true
    },
    "kernelspec": {
      "name": "python3",
      "display_name": "Python 3"
    },
    "language_info": {
      "name": "python"
    }
  },
  "cells": [
    {
      "cell_type": "markdown",
      "metadata": {
        "id": "view-in-github",
        "colab_type": "text"
      },
      "source": [
        "<a href=\"https://colab.research.google.com/github/Saicharanchearla/B23_10i8/blob/main/NLP_LAB1.ipynb\" target=\"_parent\"><img src=\"https://colab.research.google.com/assets/colab-badge.svg\" alt=\"Open In Colab\"/></a>"
      ]
    },
    {
      "cell_type": "code",
      "execution_count": 1,
      "metadata": {
        "id": "vRLYHPXATKbP"
      },
      "outputs": [],
      "source": [
        "import sys\n",
        "import matplotlib.pyplot as plt\n"
      ]
    },
    {
      "cell_type": "code",
      "source": [
        "def recursive_factorial(n):\n",
        "    if n == 0 or n == 1:\n",
        "        return 1\n",
        "    return n * recursive_factorial(n - 1)\n",
        "\n",
        "def safe_recursive_factorial(n):\n",
        "    if n > 998:\n",
        "        print(\" Warning: Value exceeds safe recursion limit (998). May cause RecursionError.\")\n",
        "\n",
        "    try:\n",
        "        result = recursive_factorial(n)\n",
        "        print(f\" Recursive factorial of {n} = {result}\")\n",
        "        return result\n",
        "    except RecursionError:\n",
        "        print(\" RecursionError: Maximum recursion depth exceeded.\")\n",
        "        return None\n"
      ],
      "metadata": {
        "id": "mr5g8JDMTRrG"
      },
      "execution_count": 2,
      "outputs": []
    },
    {
      "cell_type": "code",
      "source": [
        "# Iterative factorial function (safe for large numbers)\n",
        "def iterative_factorial(n):\n",
        "    result = 1\n",
        "    for i in range(2, n + 1):\n",
        "        result *= i\n",
        "    print(f\" Iterative factorial of {n} = {result}\")\n",
        "    return result\n"
      ],
      "metadata": {
        "id": "LvXEQnZ9TaL1"
      },
      "execution_count": 3,
      "outputs": []
    },
    {
      "cell_type": "code",
      "source": [
        "print(f\" Current recursion limit: {sys.getrecursionlimit()}\")\n"
      ],
      "metadata": {
        "colab": {
          "base_uri": "https://localhost:8080/"
        },
        "id": "1q_ZEhqTTdbI",
        "outputId": "fcccb6ef-fae5-4467-af10-b0ae27eeeac8"
      },
      "execution_count": 4,
      "outputs": [
        {
          "output_type": "stream",
          "name": "stdout",
          "text": [
            " Current recursion limit: 1000\n"
          ]
        }
      ]
    },
    {
      "cell_type": "code",
      "source": [
        "n = int(input(\"Enter a number to calculate factorial: \"))\n",
        "\n",
        "print(\"\\n--- Recursive Method ---\")\n",
        "rec_result = safe_recursive_factorial(n)\n",
        "\n",
        "print(\"\\n--- Iterative Method ---\")\n",
        "iter_result = iterative_factorial(n)\n"
      ],
      "metadata": {
        "colab": {
          "base_uri": "https://localhost:8080/"
        },
        "id": "tKstTtKGTlME",
        "outputId": "bcc2152f-e5e8-4fa4-caf5-e0f9d00a8c95"
      },
      "execution_count": 5,
      "outputs": [
        {
          "output_type": "stream",
          "name": "stdout",
          "text": [
            "Enter a number to calculate factorial: 5\n",
            "\n",
            "--- Recursive Method ---\n",
            " Recursive factorial of 5 = 120\n",
            "\n",
            "--- Iterative Method ---\n",
            " Iterative factorial of 5 = 120\n"
          ]
        }
      ]
    },
    {
      "cell_type": "code",
      "source": [
        "x_vals = list(range(1, 20))\n",
        "y_vals = [iterative_factorial(x) for x in x_vals]\n",
        "\n",
        "plt.plot(x_vals, y_vals, marker='o')\n",
        "plt.title(\"Factorial Growth Curve\")\n",
        "plt.xlabel(\"n\")\n",
        "plt.ylabel(\"n!\")\n",
        "plt.grid(True)\n",
        "plt.show()\n"
      ],
      "metadata": {
        "colab": {
          "base_uri": "https://localhost:8080/",
          "height": 802
        },
        "id": "2jX0EWsHToqJ",
        "outputId": "e74eedac-98de-4a8c-9ef4-e49b7492a4e2"
      },
      "execution_count": 6,
      "outputs": [
        {
          "output_type": "stream",
          "name": "stdout",
          "text": [
            " Iterative factorial of 1 = 1\n",
            " Iterative factorial of 2 = 2\n",
            " Iterative factorial of 3 = 6\n",
            " Iterative factorial of 4 = 24\n",
            " Iterative factorial of 5 = 120\n",
            " Iterative factorial of 6 = 720\n",
            " Iterative factorial of 7 = 5040\n",
            " Iterative factorial of 8 = 40320\n",
            " Iterative factorial of 9 = 362880\n",
            " Iterative factorial of 10 = 3628800\n",
            " Iterative factorial of 11 = 39916800\n",
            " Iterative factorial of 12 = 479001600\n",
            " Iterative factorial of 13 = 6227020800\n",
            " Iterative factorial of 14 = 87178291200\n",
            " Iterative factorial of 15 = 1307674368000\n",
            " Iterative factorial of 16 = 20922789888000\n",
            " Iterative factorial of 17 = 355687428096000\n",
            " Iterative factorial of 18 = 6402373705728000\n",
            " Iterative factorial of 19 = 121645100408832000\n"
          ]
        },
        {
          "output_type": "display_data",
          "data": {
            "text/plain": [
              "<Figure size 640x480 with 1 Axes>"
            ],
            "image/png": "[encoded data removed]"
          },
          "metadata": {}
        }
      ]
    }
  ]
}