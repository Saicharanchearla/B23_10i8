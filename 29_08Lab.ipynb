{
  "nbformat": 4,
  "nbformat_minor": 0,
  "metadata": {
    "colab": {
      "provenance": [],
      "authorship_tag": "ABX9TyOqDmWOz/9xiSr2KoqBXEWc",
      "include_colab_link": true
    },
    "kernelspec": {
      "name": "python3",
      "display_name": "Python 3"
    },
    "language_info": {
      "name": "python"
    }
  },
  "cells": [
    {
      "cell_type": "markdown",
      "metadata": {
        "id": "view-in-github",
        "colab_type": "text"
      },
      "source": [
        "<a href=\"https://colab.research.google.com/github/Saicharanchearla/B23_10i8/blob/main/29_08Lab.ipynb\" target=\"_parent\"><img src=\"https://colab.research.google.com/assets/colab-badge.svg\" alt=\"Open In Colab\"/></a>"
      ]
    },
    {
      "cell_type": "code",
      "execution_count": 1,
      "metadata": {
        "id": "YEeyEo6W7sbR"
      },
      "outputs": [],
      "source": [
        "import pandas as pd"
      ]
    },
    {
      "cell_type": "code",
      "source": [
        "data = [10,20,30,40,50]\n",
        "series = pd.Series(data)"
      ],
      "metadata": {
        "id": "tPzqXPJx8oLo"
      },
      "execution_count": 2,
      "outputs": []
    },
    {
      "cell_type": "code",
      "source": [
        "print(\" Pandas Series:\")\n",
        "print(series)"
      ],
      "metadata": {
        "colab": {
          "base_uri": "https://localhost:8080/"
        },
        "id": "g_HkSrJc8oCR",
        "outputId": "1e8b8f4c-2be0-48e8-e6c7-23ce08c3373d"
      },
      "execution_count": 3,
      "outputs": [
        {
          "output_type": "stream",
          "name": "stdout",
          "text": [
            " Pandas Series:\n",
            "0    10\n",
            "1    20\n",
            "2    30\n",
            "3    40\n",
            "4    50\n",
            "dtype: int64\n"
          ]
        }
      ]
    },
    {
      "cell_type": "code",
      "source": [
        "#Series with custom Index\n",
        "import pandas as pd"
      ],
      "metadata": {
        "id": "DCaT0jWP86p3"
      },
      "execution_count": 4,
      "outputs": []
    },
    {
      "cell_type": "code",
      "source": [
        "data = [10,20,30,40,50]\n",
        "index_labels = ['a','b','c','d','e']"
      ],
      "metadata": {
        "id": "Rt0w1Zeb9DE8"
      },
      "execution_count": 5,
      "outputs": []
    },
    {
      "cell_type": "code",
      "source": [
        "series = pd.Series(data,index=index_labels)"
      ],
      "metadata": {
        "id": "yylgoAs59Q0E"
      },
      "execution_count": 6,
      "outputs": []
    },
    {
      "cell_type": "code",
      "source": [
        "print(series)"
      ],
      "metadata": {
        "colab": {
          "base_uri": "https://localhost:8080/"
        },
        "id": "6WF7cKW79Vvs",
        "outputId": "a5bae6d6-6f3e-476b-c83f-beb129951ab3"
      },
      "execution_count": 7,
      "outputs": [
        {
          "output_type": "stream",
          "name": "stdout",
          "text": [
            "a    10\n",
            "b    20\n",
            "c    30\n",
            "d    40\n",
            "e    50\n",
            "dtype: int64\n"
          ]
        }
      ]
    },
    {
      "cell_type": "code",
      "source": [
        "#Creating a data frame\n",
        "import pandas as pd"
      ],
      "metadata": {
        "id": "3IlmeKkB9b0A"
      },
      "execution_count": 8,
      "outputs": []
    },
    {
      "cell_type": "code",
      "source": [
        "data = {\n",
        "    'Name':['Alice','Bob','Charlie','David'],\n",
        "    'Age':[25,30,35,40],\n",
        "    'City':['Hyderabad','Hanamkonda','Warangal','Chennai']\n",
        "}"
      ],
      "metadata": {
        "id": "bWr75f6U9ztX"
      },
      "execution_count": 10,
      "outputs": []
    },
    {
      "cell_type": "code",
      "source": [
        "df= pd.DataFrame(data)"
      ],
      "metadata": {
        "id": "LUzkFVuu-eSn"
      },
      "execution_count": 11,
      "outputs": []
    },
    {
      "cell_type": "code",
      "source": [
        "print(\"Pandas DataFrame\")\n",
        "print(df)"
      ],
      "metadata": {
        "colab": {
          "base_uri": "https://localhost:8080/"
        },
        "id": "qWt3k_hC-lk2",
        "outputId": "d787b7f7-d552-46fe-e516-cff9ba769e32"
      },
      "execution_count": 12,
      "outputs": [
        {
          "output_type": "stream",
          "name": "stdout",
          "text": [
            "Pandas DataFrame\n",
            "      Name  Age        City\n",
            "0    Alice   25   Hyderabad\n",
            "1      Bob   30  Hanamkonda\n",
            "2  Charlie   35    Warangal\n",
            "3    David   40     Chennai\n"
          ]
        }
      ]
    },
    {
      "cell_type": "code",
      "source": [
        "#(a)Accessing Data\n",
        "\n",
        "#Access a single column\n",
        "print(df['Name'])"
      ],
      "metadata": {
        "colab": {
          "base_uri": "https://localhost:8080/"
        },
        "id": "2RXqW-Yh-0nf",
        "outputId": "c7b408d3-5beb-4d19-aff9-9f7b25d9132b"
      },
      "execution_count": 14,
      "outputs": [
        {
          "output_type": "stream",
          "name": "stdout",
          "text": [
            "0      Alice\n",
            "1        Bob\n",
            "2    Charlie\n",
            "3      David\n",
            "Name: Name, dtype: object\n"
          ]
        }
      ]
    },
    {
      "cell_type": "code",
      "source": [
        "#Access multi columns\n",
        "print(df[['Name','City']])"
      ],
      "metadata": {
        "colab": {
          "base_uri": "https://localhost:8080/"
        },
        "id": "NFjJBtdz_IkC",
        "outputId": "b36b30a1-0e1f-40bd-a565-ec3512d25642"
      },
      "execution_count": 15,
      "outputs": [
        {
          "output_type": "stream",
          "name": "stdout",
          "text": [
            "      Name        City\n",
            "0    Alice   Hyderabad\n",
            "1      Bob  Hanamkonda\n",
            "2  Charlie    Warangal\n",
            "3    David     Chennai\n"
          ]
        }
      ]
    },
    {
      "cell_type": "code",
      "source": [
        "#Access rows using index\n",
        "print(df.iloc[1])\n",
        "print(df.loc[2])"
      ],
      "metadata": {
        "colab": {
          "base_uri": "https://localhost:8080/"
        },
        "id": "p4Zhw6w7_VLR",
        "outputId": "902a9809-f1bf-49f0-cb87-1a6302a20df4"
      },
      "execution_count": 16,
      "outputs": [
        {
          "output_type": "stream",
          "name": "stdout",
          "text": [
            "Name           Bob\n",
            "Age             30\n",
            "City    Hanamkonda\n",
            "Name: 1, dtype: object\n",
            "Name     Charlie\n",
            "Age           35\n",
            "City    Warangal\n",
            "Name: 2, dtype: object\n"
          ]
        }
      ]
    },
    {
      "cell_type": "code",
      "source": [
        "#Adding a new column\n",
        "df['Salary'] = [40000,50000,60000,70000]\n",
        "print(df)"
      ],
      "metadata": {
        "colab": {
          "base_uri": "https://localhost:8080/"
        },
        "id": "SqSkc5Rp_u7K",
        "outputId": "3bb5af45-e98e-43e5-e2bb-fe6db7f03f3e"
      },
      "execution_count": 17,
      "outputs": [
        {
          "output_type": "stream",
          "name": "stdout",
          "text": [
            "      Name  Age        City  Salary\n",
            "0    Alice   25   Hyderabad   40000\n",
            "1      Bob   30  Hanamkonda   50000\n",
            "2  Charlie   35    Warangal   60000\n",
            "3    David   40     Chennai   70000\n"
          ]
        }
      ]
    },
    {
      "cell_type": "code",
      "source": [
        "#Removing a column\n",
        "df = df.drop('City',axis=1)\n",
        "print(df)"
      ],
      "metadata": {
        "colab": {
          "base_uri": "https://localhost:8080/"
        },
        "id": "9xuDpGA0ABaf",
        "outputId": "5edaed6f-a189-45dd-fe51-063418be506c"
      },
      "execution_count": 18,
      "outputs": [
        {
          "output_type": "stream",
          "name": "stdout",
          "text": [
            "      Name  Age  Salary\n",
            "0    Alice   25   40000\n",
            "1      Bob   30   50000\n",
            "2  Charlie   35   60000\n",
            "3    David   40   70000\n"
          ]
        }
      ]
    },
    {
      "cell_type": "code",
      "source": [
        "#(d) Filtering Data\n",
        "# select roes where Age>30\n",
        "print(df[df['Age']>30])"
      ],
      "metadata": {
        "colab": {
          "base_uri": "https://localhost:8080/"
        },
        "id": "x8bkj-ACA3V0",
        "outputId": "e463f91d-2ef4-4043-fea4-03d0583d3e93"
      },
      "execution_count": 19,
      "outputs": [
        {
          "output_type": "stream",
          "name": "stdout",
          "text": [
            "      Name  Age  Salary\n",
            "2  Charlie   35   60000\n",
            "3    David   40   70000\n"
          ]
        }
      ]
    },
    {
      "cell_type": "code",
      "source": [
        "#(e) Basic Statistics\n",
        "print(df['Age'].mean()) #average age\n",
        "print(df['Age'].max()) #maximum age\n",
        "print(df['Age'].min()) #minimum age"
      ],
      "metadata": {
        "colab": {
          "base_uri": "https://localhost:8080/"
        },
        "id": "D7ceKOVGBRKg",
        "outputId": "85890af4-2a8e-4eea-c52f-988a8d3a75da"
      },
      "execution_count": 21,
      "outputs": [
        {
          "output_type": "stream",
          "name": "stdout",
          "text": [
            "32.5\n",
            "40\n",
            "25\n"
          ]
        }
      ]
    },
    {
      "cell_type": "code",
      "source": [
        "#5. Real world ex: Student data\n",
        "import pandas as pd"
      ],
      "metadata": {
        "id": "-X5NhET4Byn7"
      },
      "execution_count": 22,
      "outputs": []
    },
    {
      "cell_type": "code",
      "source": [
        "#create a dataframe with stu details\n",
        "student_data = {\n",
        "    'Student_id': [4034,4033,1630,1036],\n",
        "    'Name' : ['Rohith','Sai','Nithin','thonny'],\n",
        "    'Marks': [85,90,78,92],\n",
        "    'Department':['ECE','CSE','ECE','CSE']\n",
        "}"
      ],
      "metadata": {
        "id": "SQwRTQMqCzPT"
      },
      "execution_count": 24,
      "outputs": []
    },
    {
      "cell_type": "code",
      "source": [
        "df=pd.DataFrame(student_data)"
      ],
      "metadata": {
        "id": "_GXqGVN3D0dS"
      },
      "execution_count": 28,
      "outputs": []
    },
    {
      "cell_type": "code",
      "source": [
        "print('Student Data:')\n",
        "print(df)"
      ],
      "metadata": {
        "colab": {
          "base_uri": "https://localhost:8080/"
        },
        "id": "mvvKGioEEA8K",
        "outputId": "2f776658-6745-4142-fccf-cbb3983ceef6"
      },
      "execution_count": 27,
      "outputs": [
        {
          "output_type": "stream",
          "name": "stdout",
          "text": [
            "Student Data:\n",
            "   Student_id    Name  Marks Department\n",
            "0        4034  Rohith     85        ECE\n",
            "1        4033     Sai     90        CSE\n",
            "2        1630  Nithin     78        ECE\n",
            "3        1036  thonny     92        CSE\n"
          ]
        }
      ]
    }
  ]
}